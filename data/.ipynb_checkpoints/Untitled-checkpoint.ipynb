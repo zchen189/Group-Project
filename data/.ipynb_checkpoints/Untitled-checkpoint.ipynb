{
 "cells": [
  {
   "cell_type": "code",
   "execution_count": 4,
   "id": "258cc3d5-c060-4303-b36e-0a82ff8bf8b7",
   "metadata": {},
   "outputs": [
    {
     "name": "stderr",
     "output_type": "stream",
     "text": [
      "\u001b[1mRows: \u001b[22m\u001b[34m196\u001b[39m \u001b[1mColumns: \u001b[22m\u001b[34m7\u001b[39m\n",
      "\u001b[36m──\u001b[39m \u001b[1mColumn specification\u001b[22m \u001b[36m────────────────────────────────────────────────────────\u001b[39m\n",
      "\u001b[1mDelimiter:\u001b[22m \",\"\n",
      "\u001b[31mchr\u001b[39m (4): experience, hashedEmail, name, gender\n",
      "\u001b[32mdbl\u001b[39m (2): played_hours, Age\n",
      "\u001b[33mlgl\u001b[39m (1): subscribe\n",
      "\n",
      "\u001b[36mℹ\u001b[39m Use `spec()` to retrieve the full column specification for this data.\n",
      "\u001b[36mℹ\u001b[39m Specify the column types or set `show_col_types = FALSE` to quiet this message.\n"
     ]
    },
    {
     "data": {
      "text/html": [
       "<table class=\"dataframe\">\n",
       "<caption>A spec_tbl_df: 196 × 7</caption>\n",
       "<thead>\n",
       "\t<tr><th scope=col>experience</th><th scope=col>subscribe</th><th scope=col>hashedEmail</th><th scope=col>played_hours</th><th scope=col>name</th><th scope=col>gender</th><th scope=col>Age</th></tr>\n",
       "\t<tr><th scope=col>&lt;chr&gt;</th><th scope=col>&lt;lgl&gt;</th><th scope=col>&lt;chr&gt;</th><th scope=col>&lt;dbl&gt;</th><th scope=col>&lt;chr&gt;</th><th scope=col>&lt;chr&gt;</th><th scope=col>&lt;dbl&gt;</th></tr>\n",
       "</thead>\n",
       "<tbody>\n",
       "\t<tr><td>Pro    </td><td> TRUE</td><td>f6daba428a5e19a3d47574858c13550499be23603422e6a0ee9728f8b53e192d</td><td>30.3</td><td>Morgan   </td><td>Male</td><td> 9</td></tr>\n",
       "\t<tr><td>Veteran</td><td> TRUE</td><td>f3c813577c458ba0dfef80996f8f32c93b6e8af1fa939732842f2312358a88e9</td><td> 3.8</td><td>Christian</td><td>Male</td><td>17</td></tr>\n",
       "\t<tr><td>Veteran</td><td>FALSE</td><td>b674dd7ee0d24096d1c019615ce4d12b20fcbff12d79d3c5a9d2118eb7ccbb28</td><td> 0.0</td><td>Blake    </td><td>Male</td><td>17</td></tr>\n",
       "\t<tr><td>⋮</td><td>⋮</td><td>⋮</td><td>⋮</td><td>⋮</td><td>⋮</td><td>⋮</td></tr>\n",
       "\t<tr><td>Amateur</td><td>FALSE</td><td>d572f391d452b76ea2d7e5e53a3d38bfd7499c7399db299bd4fedb06a46ad5bb</td><td>0.0</td><td>Dylan </td><td>Prefer not to say</td><td>17</td></tr>\n",
       "\t<tr><td>Amateur</td><td>FALSE</td><td>f19e136ddde68f365afc860c725ccff54307dedd13968e896a9f890c40aea436</td><td>2.3</td><td>Harlow</td><td>Male             </td><td>17</td></tr>\n",
       "\t<tr><td>Pro    </td><td> TRUE</td><td>d9473710057f7d42f36570f0be83817a4eea614029ff90cf50d8889cdd729d11</td><td>0.2</td><td>Ahmed </td><td>Other            </td><td>NA</td></tr>\n",
       "</tbody>\n",
       "</table>\n"
      ],
      "text/latex": [
       "A spec\\_tbl\\_df: 196 × 7\n",
       "\\begin{tabular}{lllllll}\n",
       " experience & subscribe & hashedEmail & played\\_hours & name & gender & Age\\\\\n",
       " <chr> & <lgl> & <chr> & <dbl> & <chr> & <chr> & <dbl>\\\\\n",
       "\\hline\n",
       "\t Pro     &  TRUE & f6daba428a5e19a3d47574858c13550499be23603422e6a0ee9728f8b53e192d & 30.3 & Morgan    & Male &  9\\\\\n",
       "\t Veteran &  TRUE & f3c813577c458ba0dfef80996f8f32c93b6e8af1fa939732842f2312358a88e9 &  3.8 & Christian & Male & 17\\\\\n",
       "\t Veteran & FALSE & b674dd7ee0d24096d1c019615ce4d12b20fcbff12d79d3c5a9d2118eb7ccbb28 &  0.0 & Blake     & Male & 17\\\\\n",
       "\t ⋮ & ⋮ & ⋮ & ⋮ & ⋮ & ⋮ & ⋮\\\\\n",
       "\t Amateur & FALSE & d572f391d452b76ea2d7e5e53a3d38bfd7499c7399db299bd4fedb06a46ad5bb & 0.0 & Dylan  & Prefer not to say & 17\\\\\n",
       "\t Amateur & FALSE & f19e136ddde68f365afc860c725ccff54307dedd13968e896a9f890c40aea436 & 2.3 & Harlow & Male              & 17\\\\\n",
       "\t Pro     &  TRUE & d9473710057f7d42f36570f0be83817a4eea614029ff90cf50d8889cdd729d11 & 0.2 & Ahmed  & Other             & NA\\\\\n",
       "\\end{tabular}\n"
      ],
      "text/markdown": [
       "\n",
       "A spec_tbl_df: 196 × 7\n",
       "\n",
       "| experience &lt;chr&gt; | subscribe &lt;lgl&gt; | hashedEmail &lt;chr&gt; | played_hours &lt;dbl&gt; | name &lt;chr&gt; | gender &lt;chr&gt; | Age &lt;dbl&gt; |\n",
       "|---|---|---|---|---|---|---|\n",
       "| Pro     |  TRUE | f6daba428a5e19a3d47574858c13550499be23603422e6a0ee9728f8b53e192d | 30.3 | Morgan    | Male |  9 |\n",
       "| Veteran |  TRUE | f3c813577c458ba0dfef80996f8f32c93b6e8af1fa939732842f2312358a88e9 |  3.8 | Christian | Male | 17 |\n",
       "| Veteran | FALSE | b674dd7ee0d24096d1c019615ce4d12b20fcbff12d79d3c5a9d2118eb7ccbb28 |  0.0 | Blake     | Male | 17 |\n",
       "| ⋮ | ⋮ | ⋮ | ⋮ | ⋮ | ⋮ | ⋮ |\n",
       "| Amateur | FALSE | d572f391d452b76ea2d7e5e53a3d38bfd7499c7399db299bd4fedb06a46ad5bb | 0.0 | Dylan  | Prefer not to say | 17 |\n",
       "| Amateur | FALSE | f19e136ddde68f365afc860c725ccff54307dedd13968e896a9f890c40aea436 | 2.3 | Harlow | Male              | 17 |\n",
       "| Pro     |  TRUE | d9473710057f7d42f36570f0be83817a4eea614029ff90cf50d8889cdd729d11 | 0.2 | Ahmed  | Other             | NA |\n",
       "\n"
      ],
      "text/plain": [
       "    experience subscribe\n",
       "1   Pro         TRUE    \n",
       "2   Veteran     TRUE    \n",
       "3   Veteran    FALSE    \n",
       "⋮   ⋮          ⋮        \n",
       "194 Amateur    FALSE    \n",
       "195 Amateur    FALSE    \n",
       "196 Pro         TRUE    \n",
       "    hashedEmail                                                     \n",
       "1   f6daba428a5e19a3d47574858c13550499be23603422e6a0ee9728f8b53e192d\n",
       "2   f3c813577c458ba0dfef80996f8f32c93b6e8af1fa939732842f2312358a88e9\n",
       "3   b674dd7ee0d24096d1c019615ce4d12b20fcbff12d79d3c5a9d2118eb7ccbb28\n",
       "⋮   ⋮                                                               \n",
       "194 d572f391d452b76ea2d7e5e53a3d38bfd7499c7399db299bd4fedb06a46ad5bb\n",
       "195 f19e136ddde68f365afc860c725ccff54307dedd13968e896a9f890c40aea436\n",
       "196 d9473710057f7d42f36570f0be83817a4eea614029ff90cf50d8889cdd729d11\n",
       "    played_hours name      gender            Age\n",
       "1   30.3         Morgan    Male               9 \n",
       "2    3.8         Christian Male              17 \n",
       "3    0.0         Blake     Male              17 \n",
       "⋮   ⋮            ⋮         ⋮                 ⋮  \n",
       "194 0.0          Dylan     Prefer not to say 17 \n",
       "195 2.3          Harlow    Male              17 \n",
       "196 0.2          Ahmed     Other             NA "
      ]
     },
     "metadata": {},
     "output_type": "display_data"
    }
   ],
   "source": [
    "library(tidyverse)\n",
    "library(repr)\n",
    "library(tidymodels)\n",
    "options(repr.matrix.max.rows = 6)\n",
    "\n",
    "#importing data\n",
    "url<-\"https://raw.githubusercontent.com/zchen189/Group-Project/refs/heads/main/players.csv\"\n",
    "players<-read_csv(url)\n",
    "players"
   ]
  },
  {
   "cell_type": "code",
   "execution_count": 7,
   "id": "7ed2326d-61c0-43cb-afbd-7648b17c1dce",
   "metadata": {},
   "outputs": [
    {
     "name": "stderr",
     "output_type": "stream",
     "text": [
      "\u001b[1mRows: \u001b[22m\u001b[34m1535\u001b[39m \u001b[1mColumns: \u001b[22m\u001b[34m5\u001b[39m\n",
      "\u001b[36m──\u001b[39m \u001b[1mColumn specification\u001b[22m \u001b[36m────────────────────────────────────────────────────────\u001b[39m\n",
      "\u001b[1mDelimiter:\u001b[22m \",\"\n",
      "\u001b[31mchr\u001b[39m (3): hashedEmail, start_time, end_time\n",
      "\u001b[32mdbl\u001b[39m (2): original_start_time, original_end_time\n",
      "\n",
      "\u001b[36mℹ\u001b[39m Use `spec()` to retrieve the full column specification for this data.\n",
      "\u001b[36mℹ\u001b[39m Specify the column types or set `show_col_types = FALSE` to quiet this message.\n"
     ]
    },
    {
     "data": {
      "text/html": [
       "<table class=\"dataframe\">\n",
       "<caption>A spec_tbl_df: 1535 × 5</caption>\n",
       "<thead>\n",
       "\t<tr><th scope=col>hashedEmail</th><th scope=col>start_time</th><th scope=col>end_time</th><th scope=col>original_start_time</th><th scope=col>original_end_time</th></tr>\n",
       "\t<tr><th scope=col>&lt;chr&gt;</th><th scope=col>&lt;chr&gt;</th><th scope=col>&lt;chr&gt;</th><th scope=col>&lt;dbl&gt;</th><th scope=col>&lt;dbl&gt;</th></tr>\n",
       "</thead>\n",
       "<tbody>\n",
       "\t<tr><td>bfce39c89d6549f2bb94d8064d3ce69dc3d7e72b38f431d8aa0c4bf95ccee6bf</td><td>30/06/2024 18:12</td><td>30/06/2024 18:24</td><td>1.71977e+12</td><td>1.71977e+12</td></tr>\n",
       "\t<tr><td>36d9cbb4c6bc0c1a6911436d2da0d09ec625e43e6552f575d4acc9cf487c4686</td><td>17/06/2024 23:33</td><td>17/06/2024 23:46</td><td>1.71867e+12</td><td>1.71867e+12</td></tr>\n",
       "\t<tr><td>f8f5477f5a2e53616ae37421b1c660b971192bd8ff77e3398304c7ae42581fdc</td><td>25/07/2024 17:34</td><td>25/07/2024 17:57</td><td>1.72193e+12</td><td>1.72193e+12</td></tr>\n",
       "\t<tr><td>⋮</td><td>⋮</td><td>⋮</td><td>⋮</td><td>⋮</td></tr>\n",
       "\t<tr><td>fd6563a4e0f6f4273580e5fedbd8dda64990447aea5a33cbb5e894a3867ca44d</td><td>28/07/2024 15:36</td><td>28/07/2024 15:57</td><td>1.72218e+12</td><td>1.72218e+12</td></tr>\n",
       "\t<tr><td>fd6563a4e0f6f4273580e5fedbd8dda64990447aea5a33cbb5e894a3867ca44d</td><td>25/07/2024 06:15</td><td>25/07/2024 06:22</td><td>1.72189e+12</td><td>1.72189e+12</td></tr>\n",
       "\t<tr><td>36d9cbb4c6bc0c1a6911436d2da0d09ec625e43e6552f575d4acc9cf487c4686</td><td>20/05/2024 02:26</td><td>20/05/2024 02:45</td><td>1.71617e+12</td><td>1.71617e+12</td></tr>\n",
       "</tbody>\n",
       "</table>\n"
      ],
      "text/latex": [
       "A spec\\_tbl\\_df: 1535 × 5\n",
       "\\begin{tabular}{lllll}\n",
       " hashedEmail & start\\_time & end\\_time & original\\_start\\_time & original\\_end\\_time\\\\\n",
       " <chr> & <chr> & <chr> & <dbl> & <dbl>\\\\\n",
       "\\hline\n",
       "\t bfce39c89d6549f2bb94d8064d3ce69dc3d7e72b38f431d8aa0c4bf95ccee6bf & 30/06/2024 18:12 & 30/06/2024 18:24 & 1.71977e+12 & 1.71977e+12\\\\\n",
       "\t 36d9cbb4c6bc0c1a6911436d2da0d09ec625e43e6552f575d4acc9cf487c4686 & 17/06/2024 23:33 & 17/06/2024 23:46 & 1.71867e+12 & 1.71867e+12\\\\\n",
       "\t f8f5477f5a2e53616ae37421b1c660b971192bd8ff77e3398304c7ae42581fdc & 25/07/2024 17:34 & 25/07/2024 17:57 & 1.72193e+12 & 1.72193e+12\\\\\n",
       "\t ⋮ & ⋮ & ⋮ & ⋮ & ⋮\\\\\n",
       "\t fd6563a4e0f6f4273580e5fedbd8dda64990447aea5a33cbb5e894a3867ca44d & 28/07/2024 15:36 & 28/07/2024 15:57 & 1.72218e+12 & 1.72218e+12\\\\\n",
       "\t fd6563a4e0f6f4273580e5fedbd8dda64990447aea5a33cbb5e894a3867ca44d & 25/07/2024 06:15 & 25/07/2024 06:22 & 1.72189e+12 & 1.72189e+12\\\\\n",
       "\t 36d9cbb4c6bc0c1a6911436d2da0d09ec625e43e6552f575d4acc9cf487c4686 & 20/05/2024 02:26 & 20/05/2024 02:45 & 1.71617e+12 & 1.71617e+12\\\\\n",
       "\\end{tabular}\n"
      ],
      "text/markdown": [
       "\n",
       "A spec_tbl_df: 1535 × 5\n",
       "\n",
       "| hashedEmail &lt;chr&gt; | start_time &lt;chr&gt; | end_time &lt;chr&gt; | original_start_time &lt;dbl&gt; | original_end_time &lt;dbl&gt; |\n",
       "|---|---|---|---|---|\n",
       "| bfce39c89d6549f2bb94d8064d3ce69dc3d7e72b38f431d8aa0c4bf95ccee6bf | 30/06/2024 18:12 | 30/06/2024 18:24 | 1.71977e+12 | 1.71977e+12 |\n",
       "| 36d9cbb4c6bc0c1a6911436d2da0d09ec625e43e6552f575d4acc9cf487c4686 | 17/06/2024 23:33 | 17/06/2024 23:46 | 1.71867e+12 | 1.71867e+12 |\n",
       "| f8f5477f5a2e53616ae37421b1c660b971192bd8ff77e3398304c7ae42581fdc | 25/07/2024 17:34 | 25/07/2024 17:57 | 1.72193e+12 | 1.72193e+12 |\n",
       "| ⋮ | ⋮ | ⋮ | ⋮ | ⋮ |\n",
       "| fd6563a4e0f6f4273580e5fedbd8dda64990447aea5a33cbb5e894a3867ca44d | 28/07/2024 15:36 | 28/07/2024 15:57 | 1.72218e+12 | 1.72218e+12 |\n",
       "| fd6563a4e0f6f4273580e5fedbd8dda64990447aea5a33cbb5e894a3867ca44d | 25/07/2024 06:15 | 25/07/2024 06:22 | 1.72189e+12 | 1.72189e+12 |\n",
       "| 36d9cbb4c6bc0c1a6911436d2da0d09ec625e43e6552f575d4acc9cf487c4686 | 20/05/2024 02:26 | 20/05/2024 02:45 | 1.71617e+12 | 1.71617e+12 |\n",
       "\n"
      ],
      "text/plain": [
       "     hashedEmail                                                     \n",
       "1    bfce39c89d6549f2bb94d8064d3ce69dc3d7e72b38f431d8aa0c4bf95ccee6bf\n",
       "2    36d9cbb4c6bc0c1a6911436d2da0d09ec625e43e6552f575d4acc9cf487c4686\n",
       "3    f8f5477f5a2e53616ae37421b1c660b971192bd8ff77e3398304c7ae42581fdc\n",
       "⋮    ⋮                                                               \n",
       "1533 fd6563a4e0f6f4273580e5fedbd8dda64990447aea5a33cbb5e894a3867ca44d\n",
       "1534 fd6563a4e0f6f4273580e5fedbd8dda64990447aea5a33cbb5e894a3867ca44d\n",
       "1535 36d9cbb4c6bc0c1a6911436d2da0d09ec625e43e6552f575d4acc9cf487c4686\n",
       "     start_time       end_time         original_start_time original_end_time\n",
       "1    30/06/2024 18:12 30/06/2024 18:24 1.71977e+12         1.71977e+12      \n",
       "2    17/06/2024 23:33 17/06/2024 23:46 1.71867e+12         1.71867e+12      \n",
       "3    25/07/2024 17:34 25/07/2024 17:57 1.72193e+12         1.72193e+12      \n",
       "⋮    ⋮                ⋮                ⋮                   ⋮                \n",
       "1533 28/07/2024 15:36 28/07/2024 15:57 1.72218e+12         1.72218e+12      \n",
       "1534 25/07/2024 06:15 25/07/2024 06:22 1.72189e+12         1.72189e+12      \n",
       "1535 20/05/2024 02:26 20/05/2024 02:45 1.71617e+12         1.71617e+12      "
      ]
     },
     "metadata": {},
     "output_type": "display_data"
    }
   ],
   "source": [
    "url<-\"https://raw.githubusercontent.com/zchen189/Group-Project/refs/heads/main/sessions.csv\"\n",
    "sessions<-read_csv(url)\n",
    "sessions"
   ]
  },
  {
   "cell_type": "code",
   "execution_count": null,
   "id": "5f9bf356-aaa8-4b90-a4e4-ca42990eb8b0",
   "metadata": {},
   "outputs": [],
   "source": []
  }
 ],
 "metadata": {
  "kernelspec": {
   "display_name": "R",
   "language": "R",
   "name": "ir"
  },
  "language_info": {
   "codemirror_mode": "r",
   "file_extension": ".r",
   "mimetype": "text/x-r-source",
   "name": "R",
   "pygments_lexer": "r",
   "version": "4.3.3"
  }
 },
 "nbformat": 4,
 "nbformat_minor": 5
}
